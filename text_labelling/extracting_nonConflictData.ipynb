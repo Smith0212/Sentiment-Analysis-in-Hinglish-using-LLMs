{
 "cells": [
  {
   "cell_type": "code",
   "execution_count": 1,
   "metadata": {},
   "outputs": [],
   "source": [
    "import pandas as pd\n",
    "import numpy as np\n",
    "import matplotlib.pyplot as plt\n",
    "import seaborn as sns\n"
   ]
  },
  {
   "cell_type": "code",
   "execution_count": 2,
   "metadata": {},
   "outputs": [
    {
     "data": {
      "text/html": [
       "<div>\n",
       "<style scoped>\n",
       "    .dataframe tbody tr th:only-of-type {\n",
       "        vertical-align: middle;\n",
       "    }\n",
       "\n",
       "    .dataframe tbody tr th {\n",
       "        vertical-align: top;\n",
       "    }\n",
       "\n",
       "    .dataframe thead th {\n",
       "        text-align: right;\n",
       "    }\n",
       "</style>\n",
       "<table border=\"1\" class=\"dataframe\">\n",
       "  <thead>\n",
       "    <tr style=\"text-align: right;\">\n",
       "      <th></th>\n",
       "      <th>English</th>\n",
       "      <th>Hindi</th>\n",
       "      <th>Hinglish</th>\n",
       "      <th>twitter_roberta</th>\n",
       "      <th>beto_sentiment</th>\n",
       "      <th>vader_sentiment</th>\n",
       "      <th>bert_base</th>\n",
       "      <th>bart_sentiment</th>\n",
       "    </tr>\n",
       "  </thead>\n",
       "  <tbody>\n",
       "    <tr>\n",
       "      <th>0</th>\n",
       "      <td>Program module is a file that contains instruc...</td>\n",
       "      <td>माड्यूल, एक संचिका होती है, जिसमें या तो स्रोत...</td>\n",
       "      <td>module , ek program hoti hai , jismen ya to so...</td>\n",
       "      <td>neutral</td>\n",
       "      <td>neutral</td>\n",
       "      <td>neutral</td>\n",
       "      <td>neutral</td>\n",
       "      <td>positive</td>\n",
       "    </tr>\n",
       "    <tr>\n",
       "      <th>1</th>\n",
       "      <td>And to Thamud We sent their brother Sali 'h. H...</td>\n",
       "      <td>और (हमने) क़ौमे समूद के पास उनके भाई सालेह को ...</td>\n",
       "      <td>aur hamne aume samood ke pas unke bhaee saleh ...</td>\n",
       "      <td>positive</td>\n",
       "      <td>neutral</td>\n",
       "      <td>positive</td>\n",
       "      <td>positive</td>\n",
       "      <td>positive</td>\n",
       "    </tr>\n",
       "    <tr>\n",
       "      <th>2</th>\n",
       "      <td>and, when reminded, do not remember</td>\n",
       "      <td>और जब उन्हें याद दिलाया जाता है, तो वे याद नही...</td>\n",
       "      <td>aur jab unhen yad dilaya jata hai , to ve yad ...</td>\n",
       "      <td>neutral</td>\n",
       "      <td>neutral</td>\n",
       "      <td>neutral</td>\n",
       "      <td>neutral</td>\n",
       "      <td>negative</td>\n",
       "    </tr>\n",
       "    <tr>\n",
       "      <th>3</th>\n",
       "      <td>you won the TED Prize 2011.</td>\n",
       "      <td>तुम्हें २०११ का टेड प्राइज़ मिल गया है.</td>\n",
       "      <td>tumhen २०११ ka ted prize mil gaya hai</td>\n",
       "      <td>positive</td>\n",
       "      <td>positive</td>\n",
       "      <td>positive</td>\n",
       "      <td>positive</td>\n",
       "      <td>positive</td>\n",
       "    </tr>\n",
       "    <tr>\n",
       "      <th>4</th>\n",
       "      <td>He gone to Kerodemal College of Delhi Universi...</td>\n",
       "      <td>उन्होंने बाद अध्ययन करने के लिए ये दिल्ली विश्...</td>\n",
       "      <td>unhonne bad science karne ke lie ye delhi univ...</td>\n",
       "      <td>neutral</td>\n",
       "      <td>neutral</td>\n",
       "      <td>neutral</td>\n",
       "      <td>neutral</td>\n",
       "      <td>positive</td>\n",
       "    </tr>\n",
       "  </tbody>\n",
       "</table>\n",
       "</div>"
      ],
      "text/plain": [
       "                                             English  \\\n",
       "0  Program module is a file that contains instruc...   \n",
       "1  And to Thamud We sent their brother Sali 'h. H...   \n",
       "2                and, when reminded, do not remember   \n",
       "3                        you won the TED Prize 2011.   \n",
       "4  He gone to Kerodemal College of Delhi Universi...   \n",
       "\n",
       "                                               Hindi  \\\n",
       "0  माड्यूल, एक संचिका होती है, जिसमें या तो स्रोत...   \n",
       "1  और (हमने) क़ौमे समूद के पास उनके भाई सालेह को ...   \n",
       "2  और जब उन्हें याद दिलाया जाता है, तो वे याद नही...   \n",
       "3            तुम्हें २०११ का टेड प्राइज़ मिल गया है.   \n",
       "4  उन्होंने बाद अध्ययन करने के लिए ये दिल्ली विश्...   \n",
       "\n",
       "                                            Hinglish twitter_roberta  \\\n",
       "0  module , ek program hoti hai , jismen ya to so...         neutral   \n",
       "1  aur hamne aume samood ke pas unke bhaee saleh ...        positive   \n",
       "2  aur jab unhen yad dilaya jata hai , to ve yad ...         neutral   \n",
       "3              tumhen २०११ ka ted prize mil gaya hai        positive   \n",
       "4  unhonne bad science karne ke lie ye delhi univ...         neutral   \n",
       "\n",
       "  beto_sentiment vader_sentiment bert_base bart_sentiment  \n",
       "0        neutral         neutral   neutral       positive  \n",
       "1        neutral        positive  positive       positive  \n",
       "2        neutral         neutral   neutral       negative  \n",
       "3       positive        positive  positive       positive  \n",
       "4        neutral         neutral   neutral       positive  "
      ]
     },
     "execution_count": 2,
     "metadata": {},
     "output_type": "execute_result"
    }
   ],
   "source": [
    "df=pd.read_csv('data_with_all_sentiment.csv')\n",
    "df.head()"
   ]
  },
  {
   "cell_type": "code",
   "execution_count": 3,
   "metadata": {},
   "outputs": [
    {
     "data": {
      "text/plain": [
       "(3952, 8)"
      ]
     },
     "execution_count": 3,
     "metadata": {},
     "output_type": "execute_result"
    }
   ],
   "source": [
    "df.shape"
   ]
  },
  {
   "cell_type": "code",
   "execution_count": 4,
   "metadata": {},
   "outputs": [
    {
     "data": {
      "text/html": [
       "<div>\n",
       "<style scoped>\n",
       "    .dataframe tbody tr th:only-of-type {\n",
       "        vertical-align: middle;\n",
       "    }\n",
       "\n",
       "    .dataframe tbody tr th {\n",
       "        vertical-align: top;\n",
       "    }\n",
       "\n",
       "    .dataframe thead th {\n",
       "        text-align: right;\n",
       "    }\n",
       "</style>\n",
       "<table border=\"1\" class=\"dataframe\">\n",
       "  <thead>\n",
       "    <tr style=\"text-align: right;\">\n",
       "      <th></th>\n",
       "      <th>English</th>\n",
       "      <th>Hindi</th>\n",
       "      <th>Hinglish</th>\n",
       "      <th>twitter_roberta</th>\n",
       "      <th>beto_sentiment</th>\n",
       "      <th>vader_sentiment</th>\n",
       "      <th>bert_base</th>\n",
       "      <th>bart_sentiment</th>\n",
       "    </tr>\n",
       "  </thead>\n",
       "  <tbody>\n",
       "    <tr>\n",
       "      <th>0</th>\n",
       "      <td>Program module is a file that contains instruc...</td>\n",
       "      <td>माड्यूल, एक संचिका होती है, जिसमें या तो स्रोत...</td>\n",
       "      <td>module , ek program hoti hai , jismen ya to so...</td>\n",
       "      <td>neutral</td>\n",
       "      <td>neutral</td>\n",
       "      <td>neutral</td>\n",
       "      <td>neutral</td>\n",
       "      <td>positive</td>\n",
       "    </tr>\n",
       "    <tr>\n",
       "      <th>1</th>\n",
       "      <td>And to Thamud We sent their brother Sali 'h. H...</td>\n",
       "      <td>और (हमने) क़ौमे समूद के पास उनके भाई सालेह को ...</td>\n",
       "      <td>aur hamne aume samood ke pas unke bhaee saleh ...</td>\n",
       "      <td>positive</td>\n",
       "      <td>neutral</td>\n",
       "      <td>positive</td>\n",
       "      <td>positive</td>\n",
       "      <td>positive</td>\n",
       "    </tr>\n",
       "    <tr>\n",
       "      <th>2</th>\n",
       "      <td>and, when reminded, do not remember</td>\n",
       "      <td>और जब उन्हें याद दिलाया जाता है, तो वे याद नही...</td>\n",
       "      <td>aur jab unhen yad dilaya jata hai , to ve yad ...</td>\n",
       "      <td>neutral</td>\n",
       "      <td>neutral</td>\n",
       "      <td>neutral</td>\n",
       "      <td>neutral</td>\n",
       "      <td>negative</td>\n",
       "    </tr>\n",
       "    <tr>\n",
       "      <th>3</th>\n",
       "      <td>you won the TED Prize 2011.</td>\n",
       "      <td>तुम्हें २०११ का टेड प्राइज़ मिल गया है.</td>\n",
       "      <td>tumhen २०११ ka ted prize mil gaya hai</td>\n",
       "      <td>positive</td>\n",
       "      <td>positive</td>\n",
       "      <td>positive</td>\n",
       "      <td>positive</td>\n",
       "      <td>positive</td>\n",
       "    </tr>\n",
       "    <tr>\n",
       "      <th>4</th>\n",
       "      <td>He gone to Kerodemal College of Delhi Universi...</td>\n",
       "      <td>उन्होंने बाद अध्ययन करने के लिए ये दिल्ली विश्...</td>\n",
       "      <td>unhonne bad science karne ke lie ye delhi univ...</td>\n",
       "      <td>neutral</td>\n",
       "      <td>neutral</td>\n",
       "      <td>neutral</td>\n",
       "      <td>neutral</td>\n",
       "      <td>positive</td>\n",
       "    </tr>\n",
       "  </tbody>\n",
       "</table>\n",
       "</div>"
      ],
      "text/plain": [
       "                                             English  \\\n",
       "0  Program module is a file that contains instruc...   \n",
       "1  And to Thamud We sent their brother Sali 'h. H...   \n",
       "2                and, when reminded, do not remember   \n",
       "3                        you won the TED Prize 2011.   \n",
       "4  He gone to Kerodemal College of Delhi Universi...   \n",
       "\n",
       "                                               Hindi  \\\n",
       "0  माड्यूल, एक संचिका होती है, जिसमें या तो स्रोत...   \n",
       "1  और (हमने) क़ौमे समूद के पास उनके भाई सालेह को ...   \n",
       "2  और जब उन्हें याद दिलाया जाता है, तो वे याद नही...   \n",
       "3            तुम्हें २०११ का टेड प्राइज़ मिल गया है.   \n",
       "4  उन्होंने बाद अध्ययन करने के लिए ये दिल्ली विश्...   \n",
       "\n",
       "                                            Hinglish twitter_roberta  \\\n",
       "0  module , ek program hoti hai , jismen ya to so...         neutral   \n",
       "1  aur hamne aume samood ke pas unke bhaee saleh ...        positive   \n",
       "2  aur jab unhen yad dilaya jata hai , to ve yad ...         neutral   \n",
       "3              tumhen २०११ ka ted prize mil gaya hai        positive   \n",
       "4  unhonne bad science karne ke lie ye delhi univ...         neutral   \n",
       "\n",
       "  beto_sentiment vader_sentiment bert_base bart_sentiment  \n",
       "0        neutral         neutral   neutral       positive  \n",
       "1        neutral        positive  positive       positive  \n",
       "2        neutral         neutral   neutral       negative  \n",
       "3       positive        positive  positive       positive  \n",
       "4        neutral         neutral   neutral       positive  "
      ]
     },
     "execution_count": 4,
     "metadata": {},
     "output_type": "execute_result"
    }
   ],
   "source": [
    "same_value_rows = df[df[[ 'twitter_roberta','bert_base']].nunique(axis=1) == 1]\n",
    "same_value_rows.head()"
   ]
  },
  {
   "cell_type": "code",
   "execution_count": 5,
   "metadata": {},
   "outputs": [
    {
     "data": {
      "text/plain": [
       "(1594, 8)"
      ]
     },
     "execution_count": 5,
     "metadata": {},
     "output_type": "execute_result"
    }
   ],
   "source": [
    "same_value_rows.shape"
   ]
  },
  {
   "cell_type": "code",
   "execution_count": 6,
   "metadata": {},
   "outputs": [],
   "source": [
    "selected_columns = ['English', 'Hindi', 'Hinglish', 'bert_base', 'vader_sentiment']\n",
    "same_value_rows[selected_columns].to_csv('same_value_rows_selected.csv', index=False)\n"
   ]
  },
  {
   "cell_type": "code",
   "execution_count": null,
   "metadata": {},
   "outputs": [],
   "source": []
  }
 ],
 "metadata": {
  "kernelspec": {
   "display_name": "Python 3",
   "language": "python",
   "name": "python3"
  },
  "language_info": {
   "codemirror_mode": {
    "name": "ipython",
    "version": 3
   },
   "file_extension": ".py",
   "mimetype": "text/x-python",
   "name": "python",
   "nbconvert_exporter": "python",
   "pygments_lexer": "ipython3",
   "version": "3.12.6"
  }
 },
 "nbformat": 4,
 "nbformat_minor": 2
}
