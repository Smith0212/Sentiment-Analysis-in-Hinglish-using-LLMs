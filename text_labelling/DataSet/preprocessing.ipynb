{
 "cells": [
  {
   "cell_type": "code",
   "execution_count": 2,
   "metadata": {},
   "outputs": [],
   "source": [
    "import pandas as pd\n",
    "import re\n",
    "\n",
    "data = pd.read_csv('data.csv')"
   ]
  },
  {
   "cell_type": "code",
   "execution_count": 1,
   "metadata": {},
   "outputs": [],
   "source": [
    "extracted_data = data[['English', 'Hindi', 'Hinglish']]\n",
    "\n",
    "def clean_text(text):\n",
    "    if isinstance(text, str):  \n",
    "        \n",
    "        text = text.strip()\n",
    "        \n",
    "        text = re.sub(r'\\s+', ' ', text)\n",
    "       \n",
    "        text = re.sub(r\"%\\s*s\", \"\", text)\n",
    "        \n",
    "        text = text.replace('\"', '').replace(\"'\", \"\")\n",
    "        \n",
    "        text = re.sub(r'[^\\w\\s.,]', '', text)  \n",
    "    return text\n"
   ]
  },
  {
   "cell_type": "code",
   "execution_count": 2,
   "metadata": {},
   "outputs": [
    {
     "name": "stderr",
     "output_type": "stream",
     "text": [
      "C:\\Users\\smits\\AppData\\Local\\Temp\\ipykernel_19444\\2505437495.py:3: SettingWithCopyWarning: \n",
      "A value is trying to be set on a copy of a slice from a DataFrame.\n",
      "Try using .loc[row_indexer,col_indexer] = value instead\n",
      "\n",
      "See the caveats in the documentation: https://pandas.pydata.org/pandas-docs/stable/user_guide/indexing.html#returning-a-view-versus-a-copy\n",
      "  extracted_data[column] = extracted_data[column].apply(clean_text)\n"
     ]
    }
   ],
   "source": [
    "\n",
    "for column in extracted_data.columns:\n",
    "    extracted_data[column] = extracted_data[column].apply(clean_text)\n"
   ]
  },
  {
   "cell_type": "code",
   "execution_count": 3,
   "metadata": {},
   "outputs": [
    {
     "name": "stderr",
     "output_type": "stream",
     "text": [
      "C:\\Users\\smits\\AppData\\Local\\Temp\\ipykernel_19444\\2855480856.py:2: SettingWithCopyWarning: \n",
      "A value is trying to be set on a copy of a slice from a DataFrame\n",
      "\n",
      "See the caveats in the documentation: https://pandas.pydata.org/pandas-docs/stable/user_guide/indexing.html#returning-a-view-versus-a-copy\n",
      "  extracted_data.dropna(inplace=True)\n"
     ]
    }
   ],
   "source": [
    "\n",
    "extracted_data.dropna(inplace=True)\n"
   ]
  },
  {
   "cell_type": "code",
   "execution_count": 4,
   "metadata": {},
   "outputs": [
    {
     "name": "stdout",
     "output_type": "stream",
     "text": [
      "Data preprocessing complete and saved to 'preprocessed_data1.csv'\n"
     ]
    }
   ],
   "source": [
    "\n",
    "extracted_data.to_csv('preprocessed_data.csv', index=False)\n",
    "print(\"Data preprocessing complete and saved to 'preprocessed_data1.csv'\")\n"
   ]
  },
  {
   "cell_type": "code",
   "execution_count": null,
   "metadata": {},
   "outputs": [],
   "source": []
  }
 ],
 "metadata": {
  "kernelspec": {
   "display_name": "Python 3",
   "language": "python",
   "name": "python3"
  },
  "language_info": {
   "codemirror_mode": {
    "name": "ipython",
    "version": 3
   },
   "file_extension": ".py",
   "mimetype": "text/x-python",
   "name": "python",
   "nbconvert_exporter": "python",
   "pygments_lexer": "ipython3",
   "version": "3.12.6"
  }
 },
 "nbformat": 4,
 "nbformat_minor": 2
}
